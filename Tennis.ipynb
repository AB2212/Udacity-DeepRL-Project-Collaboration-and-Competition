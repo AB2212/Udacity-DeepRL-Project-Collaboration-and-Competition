{
 "cells": [
  {
   "cell_type": "markdown",
   "metadata": {},
   "source": [
    "# Collaboration and Competition\n"
   ]
  },
  {
   "cell_type": "markdown",
   "metadata": {},
   "source": [
    "The environment is already saved in the Workspace and can be accessed at the file path provided below. "
   ]
  },
  {
   "cell_type": "code",
   "execution_count": 2,
   "metadata": {},
   "outputs": [
    {
     "name": "stderr",
     "output_type": "stream",
     "text": [
      "INFO:unityagents:\n",
      "'Academy' started successfully!\n",
      "Unity Academy name: Academy\n",
      "        Number of Brains: 1\n",
      "        Number of External Brains : 1\n",
      "        Lesson number : 0\n",
      "        Reset Parameters :\n",
      "\t\t\n",
      "Unity brain name: TennisBrain\n",
      "        Number of Visual Observations (per agent): 0\n",
      "        Vector Observation space type: continuous\n",
      "        Vector Observation space size (per agent): 8\n",
      "        Number of stacked Vector Observation: 3\n",
      "        Vector Action space type: continuous\n",
      "        Vector Action space size (per agent): 2\n",
      "        Vector Action descriptions: , \n"
     ]
    }
   ],
   "source": [
    "from unityagents import UnityEnvironment\n",
    "import numpy as np\n",
    "\n",
    "env = UnityEnvironment(file_name=\"/data/Tennis_Linux_NoVis/Tennis\")"
   ]
  },
  {
   "cell_type": "markdown",
   "metadata": {},
   "source": [
    "Environments contain **_brains_** which are responsible for deciding the actions of their associated agents. Here we check for the first brain available, and set it as the default brain we will be controlling from Python."
   ]
  },
  {
   "cell_type": "code",
   "execution_count": 3,
   "metadata": {},
   "outputs": [],
   "source": [
    "# get the default brain\n",
    "brain_name = env.brain_names[0]\n",
    "brain = env.brains[brain_name]"
   ]
  },
  {
   "cell_type": "markdown",
   "metadata": {},
   "source": [
    "### State and Action Spaces\n",
    "\n",
    "Run the code cell below to print some information about the environment."
   ]
  },
  {
   "cell_type": "code",
   "execution_count": 4,
   "metadata": {},
   "outputs": [
    {
     "name": "stdout",
     "output_type": "stream",
     "text": [
      "Number of agents: 2\n",
      "Size of each action: 2\n",
      "There are 2 agents. Each observes a state with length: 24\n",
      "The state for the first agent looks like: [ 0.          0.          0.          0.          0.          0.          0.\n",
      "  0.          0.          0.          0.          0.          0.          0.\n",
      "  0.          0.         -6.65278625 -1.5        -0.          0.\n",
      "  6.83172083  6.         -0.          0.        ]\n"
     ]
    }
   ],
   "source": [
    "# reset the environment\n",
    "env_info = env.reset(train_mode=True)[brain_name]\n",
    "\n",
    "# number of agents \n",
    "num_agents = len(env_info.agents)\n",
    "print('Number of agents:', num_agents)\n",
    "\n",
    "# size of each action\n",
    "action_size = brain.vector_action_space_size\n",
    "print('Size of each action:', action_size)\n",
    "\n",
    "# examine the state space \n",
    "states = env_info.vector_observations\n",
    "state_size = states.shape[1]\n",
    "print('There are {} agents. Each observes a state with length: {}'.format(states.shape[0], state_size))\n",
    "print('The state for the first agent looks like:', states[0])"
   ]
  },
  {
   "cell_type": "markdown",
   "metadata": {},
   "source": [
    "### Take Random Actions in the Environment\n",
    "\n",
    "In the next code cell, you will learn how to use the Python API to control the agent and receive feedback from the environment.\n",
    "\n",
    "Note that **in this coding environment, you will not be able to watch the agents while they are training**, and you should set `train_mode=True` to restart the environment."
   ]
  },
  {
   "cell_type": "code",
   "execution_count": 5,
   "metadata": {},
   "outputs": [
    {
     "name": "stdout",
     "output_type": "stream",
     "text": [
      "Total score (averaged over agents) this episode: -0.004999999888241291\n",
      "Total score (averaged over agents) this episode: -0.004999999888241291\n",
      "Total score (averaged over agents) this episode: -0.004999999888241291\n",
      "Total score (averaged over agents) this episode: -0.004999999888241291\n",
      "Total score (averaged over agents) this episode: -0.004999999888241291\n"
     ]
    }
   ],
   "source": [
    "for i in range(5):                                         # play game for 5 episodes\n",
    "    env_info = env.reset(train_mode=False)[brain_name]     # reset the environment    \n",
    "    states = env_info.vector_observations                  # get the current state (for each agent)\n",
    "    scores = np.zeros(num_agents)                          # initialize the score (for each agent)\n",
    "    while True:\n",
    "        actions = np.random.randn(num_agents, action_size) # select an action (for each agent)\n",
    "        actions = np.clip(actions, -1, 1)                  # all actions between -1 and 1\n",
    "        env_info = env.step(actions)[brain_name]           # send all actions to tne environment\n",
    "        next_states = env_info.vector_observations         # get next state (for each agent)\n",
    "        rewards = env_info.rewards                         # get reward (for each agent)\n",
    "        dones = env_info.local_done                        # see if episode finished\n",
    "        scores += env_info.rewards                         # update the score (for each agent)\n",
    "        states = next_states                               # roll over states to next time step\n",
    "        if np.any(dones):                                  # exit loop if episode finished\n",
    "            break\n",
    "    print('Total score (averaged over agents) this episode: {}'.format(np.mean(scores)))"
   ]
  },
  {
   "cell_type": "code",
   "execution_count": 46,
   "metadata": {},
   "outputs": [],
   "source": [
    "import numpy as  np\n",
    "#Setting random seed for reproducibility\n",
    "np.random.seed(0) \n",
    "import sys\n",
    "import random\n",
    "#Setting random seed\n",
    "random.seed(0)\n",
    "\n",
    "import torch\n",
    "#Setting random seed\n",
    "torch.manual_seed(0)\n",
    "import torch.nn as nn\n",
    "import torch.optim as optim\n",
    "import torch.nn.functional as F\n",
    "\n",
    "from maddpg import MADDPG\n",
    "from config_file import Config\n",
    "from utils import plot_reward\n",
    "\n",
    "from unityagents import UnityEnvironment\n",
    "import numpy as np\n",
    "\n",
    "from collections import deque\n",
    "\n",
    "%reload_ext autoreload\n",
    "\n",
    "%autoreload 2"
   ]
  },
  {
   "cell_type": "code",
   "execution_count": 7,
   "metadata": {},
   "outputs": [
    {
     "name": "stdout",
     "output_type": "stream",
     "text": [
      "\n",
      "Configurations:\n",
      "BATCH_SIZE                     512\n",
      "BUFFER_SIZE                    1000000\n",
      "NUM_NEURONS_LAYER1             512\n",
      "NUM_NEURONS_LAYER2             256\n",
      "NUM_UPDATES                    2\n",
      "UPDATE_EVERY                   1\n",
      "gamma                          0.99\n",
      "learning_rate_actor            0.0001\n",
      "learning_rate_critic           0.0001\n",
      "tau                            0.2\n",
      "\n",
      "\n"
     ]
    }
   ],
   "source": [
    "#Config\n",
    "config = Config()\n",
    "\n",
    "config.display()"
   ]
  },
  {
   "cell_type": "code",
   "execution_count": 8,
   "metadata": {},
   "outputs": [],
   "source": [
    "#Device type (use cuda if gpu is available else cpu)\n",
    "device = torch.device(\"cuda:0\" if torch.cuda.is_available() else \"cpu\")\n",
    "\n",
    "# Initializing MultiAgent\n",
    "maddpg_agent = MADDPG(state_size, action_size,\n",
    "                      num_agents, config)"
   ]
  },
  {
   "cell_type": "code",
   "execution_count": 9,
   "metadata": {
    "scrolled": false
   },
   "outputs": [
    {
     "name": "stdout",
     "output_type": "stream",
     "text": [
      "Episode 841\tAverage Score: 0.51\n",
      " Problem Solved!\n",
      "Score: [ 1.69000003  1.80000003]\n"
     ]
    }
   ],
   "source": [
    "episodes = 2000                                         # Max no. of episodes   \n",
    "scores = []                                             # list containing scores from each episode\n",
    "scores_window = deque(maxlen=100)\n",
    "\n",
    "for i_episode in range(1,episodes+1):\n",
    "    \n",
    "    env_info = env.reset(train_mode=True)[brain_name]   # reset the environment\n",
    "    states = env_info.vector_observations               # get the current state\n",
    "    score = np.zeros(num_agents)                        # scores for each agent\n",
    "    \n",
    "    step = 0\n",
    "\n",
    "    while True:\n",
    "        \n",
    "        actions = maddpg_agent.act(states, step)        # select an action\n",
    "        \n",
    "        env_info = env.step(actions)[brain_name]        # send the action to the environment\n",
    "        \n",
    "        next_states = env_info.vector_observations      # get the next state\n",
    "        \n",
    "        rewards = (np.array(env_info.rewards)\n",
    "                  .reshape(num_agents,1))               # get the reward\n",
    "        \n",
    "        dones = (np.array(env_info.local_done)\n",
    "                 .reshape(num_agents,1))                # see if episode has finished\n",
    "        \n",
    "        maddpg_agent.step(states[None,:,:],             # Update Agent's attributes(Replay buffer/parameters)\n",
    "                          actions[None,:,:], \n",
    "                          rewards[None,:,:],     \n",
    "                          next_states[None,:,:], \n",
    "                          dones[None,:,:])\n",
    "        score += rewards.ravel()                        # update the score\n",
    "        \n",
    "        states = next_states                            # roll over the state to next time step\n",
    "        \n",
    "        step += 1                                      \n",
    "         \n",
    "        if np.any(dones):                               # exit loop if episode finished is by any agent\n",
    "            break\n",
    "        \n",
    "    \n",
    "    scores_window.append(np.max(score))                 # save most recent score\n",
    "    scores.append(np.max(score))                        # save most recent score\n",
    "    \n",
    "    sys.stdout.flush()\n",
    "    print('\\rEpisode {}\\tAverage Score: {:.2f}'\\\n",
    "          .format(i_episode,\n",
    "                  np.mean(scores_window)), end=\"\")\n",
    "    \n",
    "    \n",
    "    if np.mean(scores_window) >= 0.5 :\n",
    "        \n",
    "        maddpg_agent_dict = {}\n",
    "        \n",
    "        for i, agent in enumerate(maddpg_agent.agents):\n",
    "            \n",
    "            maddpg_agent_dict.update(\n",
    "           {f'actor_main_network_state_dict_agent_{i}' : agent.actor_main.state_dict(),\n",
    "            f'actor_target_network_state_dict_agent_{i}' : agent.actor_target.state_dict(),\n",
    "            f'critic_main_network_state_dict_agent_{i}' : agent.critic_main.state_dict(),\n",
    "            f'critic_target_network_state_dict_agent_{i}' : agent.critic_target.state_dict(),\n",
    "            f'optimizer_actor_state_dict_agent_{i}' : agent.optimizer_actor.state_dict(),\n",
    "            f'optimizer_critic_state_dict_agent_{i}' : agent.optimizer_actor.state_dict()\n",
    "\n",
    "           })\n",
    "            \n",
    "        # Saving Weights\n",
    "        torch.save( maddpg_agent_dict,\n",
    "                    'maddpg_agent_state.pt')\n",
    "        \n",
    "        \n",
    "        print(\"\\n Problem Solved!\")\n",
    "\n",
    "        break\n",
    "    \n",
    "print(\"Score: {}\".format(score))"
   ]
  },
  {
   "cell_type": "code",
   "execution_count": 49,
   "metadata": {},
   "outputs": [
    {
     "data": {
      "image/png": "[encoded data removed]",
      "text/plain": [
       "<matplotlib.figure.Figure at 0x7f3d20648a58>"
      ]
     },
     "metadata": {
      "needs_background": "light"
     },
     "output_type": "display_data"
    }
   ],
   "source": [
    "#Plotting Rewards\n",
    "fig=plt.figure(figsize = (10,6))\n",
    "plot_reward(scores)"
   ]
  },
  {
   "cell_type": "code",
   "execution_count": 50,
   "metadata": {},
   "outputs": [
    {
     "name": "stderr",
     "output_type": "stream",
     "text": [
      "100%|██████████| 100/100 [06:36<00:00,  4.34s/it]"
     ]
    },
    {
     "name": "stdout",
     "output_type": "stream",
     "text": [
      "Total score (averaged over agents) this episode: 2.281600034032017\n"
     ]
    },
    {
     "name": "stderr",
     "output_type": "stream",
     "text": [
      "\n"
     ]
    }
   ],
   "source": [
    "def test(num_episodes=100):\n",
    "    \n",
    "    all_scores = []\n",
    "\n",
    "    from tqdm import tqdm\n",
    "    \n",
    "    for ep in tqdm(range(num_episodes)):\n",
    "\n",
    "        env_info = env.reset(train_mode=True)[brain_name]      # reset the environment    \n",
    "        states = env_info.vector_observations                  # get the current state (for each agent)\n",
    "        scores = np.zeros(num_agents)                          # initialize the score (for each agent)\n",
    "        while True:\n",
    "            actions = maddpg_agent.act(states)                        # all actions between -1 and 1\n",
    "            env_info = env.step(actions)[brain_name]           # send all actions to tne environment\n",
    "            next_states = env_info.vector_observations         # get next state (for each agent)\n",
    "            rewards = env_info.rewards                         # get reward (for each agent)\n",
    "            dones = env_info.local_done                        # see if episode finished\n",
    "            scores += env_info.rewards                         # update the score (for each agent)\n",
    "            states = next_states                               # roll over states to next time step\n",
    "            if np.any(dones):                                  # exit loop if episode finished\n",
    "                break\n",
    "\n",
    "        all_scores.append(np.max(scores))\n",
    "        \n",
    "    print('Total score (averaged over agents) this episode: {}'.format(np.mean(all_scores)))\n",
    "    \n",
    "test(num_episodes = 100)"
   ]
  }
 ],
 "metadata": {
  "kernelspec": {
   "display_name": "Python 3",
   "language": "python",
   "name": "python3"
  },
  "language_info": {
   "codemirror_mode": {
    "name": "ipython",
    "version": 3
   },
   "file_extension": ".py",
   "mimetype": "text/x-python",
   "name": "python",
   "nbconvert_exporter": "python",
   "pygments_lexer": "ipython3",
   "version": "3.7.7"
  }
 },
 "nbformat": 4,
 "nbformat_minor": 2
}
